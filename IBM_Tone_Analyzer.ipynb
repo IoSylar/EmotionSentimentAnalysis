{
 "cells": [
  {
   "cell_type": "code",
   "execution_count": null,
   "metadata": {
    "colab": {},
    "colab_type": "code",
    "id": "1Sk0kEdj-aHM"
   },
   "outputs": [],
   "source": [
    "IBM_Key = kSctzVu5LXmSAPddZC****_******** #private key"
   ]
  },
  {
   "cell_type": "code",
   "execution_count": null,
   "metadata": {
    "ExecuteTime": {
     "end_time": "2020-04-13T00:35:11.328797Z",
     "start_time": "2020-04-13T00:34:58.986257Z"
    },
    "colab": {
     "base_uri": "https://localhost:8080/",
     "height": 240
    },
    "colab_type": "code",
    "id": "kmvyZZUd-aHg",
    "outputId": "a6e44a46-be0b-4322-8b2d-bb9213d91151"
   },
   "outputs": [
    {
     "name": "stdout",
     "output_type": "stream",
     "text": [
      "Collecting langdetect\n",
      "\u001b[?25l  Downloading https://files.pythonhosted.org/packages/56/a3/8407c1e62d5980188b4acc45ef3d94b933d14a2ebc9ef3505f22cf772570/langdetect-1.0.8.tar.gz (981kB)\n",
      "\u001b[K     |████████████████████████████████| 983kB 2.8MB/s \n",
      "\u001b[?25hRequirement already satisfied: six in /usr/local/lib/python3.6/dist-packages (from langdetect) (1.12.0)\n",
      "Building wheels for collected packages: langdetect\n",
      "  Building wheel for langdetect (setup.py) ... \u001b[?25l\u001b[?25hdone\n",
      "  Created wheel for langdetect: filename=langdetect-1.0.8-cp36-none-any.whl size=993193 sha256=397808eb0070782932716ae5d76e058343678c9b95de80a3fd9d05c096854592\n",
      "  Stored in directory: /root/.cache/pip/wheels/8d/b3/aa/6d99de9f3841d7d3d40a60ea06e6d669e8e5012e6c8b947a57\n",
      "Successfully built langdetect\n",
      "Installing collected packages: langdetect\n",
      "Successfully installed langdetect-1.0.8\n"
     ]
    }
   ],
   "source": [
    "!pip install langdetect"
   ]
  },
  {
   "cell_type": "code",
   "execution_count": null,
   "metadata": {
    "colab": {
     "base_uri": "https://localhost:8080/",
     "height": 536
    },
    "colab_type": "code",
    "id": "pQ1wu14METoT",
    "outputId": "abbcc5a8-4a6b-4995-a3f1-32e95179c625"
   },
   "outputs": [
    {
     "name": "stdout",
     "output_type": "stream",
     "text": [
      "Collecting ibm-watson>=4.5.0\n",
      "\u001b[?25l  Downloading https://files.pythonhosted.org/packages/dc/da/10f8774b319acdda29885931c01fae862622519bff492957c73b0ba84743/ibm-watson-4.5.0.tar.gz (370kB)\n",
      "\u001b[K     |████████████████████████████████| 378kB 2.8MB/s eta 0:00:01\n",
      "\u001b[?25hRequirement already satisfied, skipping upgrade: requests<3.0,>=2.0 in /usr/local/lib/python3.6/dist-packages (from ibm-watson>=4.5.0) (2.23.0)\n",
      "Requirement already satisfied, skipping upgrade: python_dateutil>=2.5.3 in /usr/local/lib/python3.6/dist-packages (from ibm-watson>=4.5.0) (2.8.1)\n",
      "Collecting websocket-client==0.48.0\n",
      "\u001b[?25l  Downloading https://files.pythonhosted.org/packages/8a/a1/72ef9aa26cfe1a75cee09fc1957e4723add9de098c15719416a1ee89386b/websocket_client-0.48.0-py2.py3-none-any.whl (198kB)\n",
      "\u001b[K     |████████████████████████████████| 204kB 8.9MB/s \n",
      "\u001b[?25hCollecting ibm_cloud_sdk_core==1.5.1\n",
      "  Downloading https://files.pythonhosted.org/packages/b7/f6/10d5271c807d73d236e6ae07b68035fed78b28b5ab836704d34097af3986/ibm-cloud-sdk-core-1.5.1.tar.gz\n",
      "Requirement already satisfied, skipping upgrade: urllib3!=1.25.0,!=1.25.1,<1.26,>=1.21.1 in /usr/local/lib/python3.6/dist-packages (from requests<3.0,>=2.0->ibm-watson>=4.5.0) (1.24.3)\n",
      "Requirement already satisfied, skipping upgrade: certifi>=2017.4.17 in /usr/local/lib/python3.6/dist-packages (from requests<3.0,>=2.0->ibm-watson>=4.5.0) (2020.4.5.2)\n",
      "Requirement already satisfied, skipping upgrade: chardet<4,>=3.0.2 in /usr/local/lib/python3.6/dist-packages (from requests<3.0,>=2.0->ibm-watson>=4.5.0) (3.0.4)\n",
      "Requirement already satisfied, skipping upgrade: idna<3,>=2.5 in /usr/local/lib/python3.6/dist-packages (from requests<3.0,>=2.0->ibm-watson>=4.5.0) (2.9)\n",
      "Requirement already satisfied, skipping upgrade: six>=1.5 in /usr/local/lib/python3.6/dist-packages (from python_dateutil>=2.5.3->ibm-watson>=4.5.0) (1.12.0)\n",
      "Collecting PyJWT>=1.7.1\n",
      "  Downloading https://files.pythonhosted.org/packages/87/8b/6a9f14b5f781697e51259d81657e6048fd31a113229cf346880bb7545565/PyJWT-1.7.1-py2.py3-none-any.whl\n",
      "Building wheels for collected packages: ibm-watson, ibm-cloud-sdk-core\n",
      "  Building wheel for ibm-watson (setup.py) ... \u001b[?25l\u001b[?25hdone\n",
      "  Created wheel for ibm-watson: filename=ibm_watson-4.5.0-cp36-none-any.whl size=364301 sha256=42a7004b895fce92fe8f7b168dedbff54e8d40e738829a9f1942e77c13340402\n",
      "  Stored in directory: /root/.cache/pip/wheels/71/9a/0a/9b3ca8eca69bc5362eb04709a750b30055a9d27818fd0c9494\n",
      "  Building wheel for ibm-cloud-sdk-core (setup.py) ... \u001b[?25l\u001b[?25hdone\n",
      "  Created wheel for ibm-cloud-sdk-core: filename=ibm_cloud_sdk_core-1.5.1-cp36-none-any.whl size=44491 sha256=82d5513bece380d74c8cc8567dcd49ee14ea7f87ca80bb091872baabd3d8cbef\n",
      "  Stored in directory: /root/.cache/pip/wheels/6a/42/50/f96888116b329578304f9dda4693cef6f3e76e18272d22cb6c\n",
      "Successfully built ibm-watson ibm-cloud-sdk-core\n",
      "Installing collected packages: websocket-client, PyJWT, ibm-cloud-sdk-core, ibm-watson\n",
      "Successfully installed PyJWT-1.7.1 ibm-cloud-sdk-core-1.5.1 ibm-watson-4.5.0 websocket-client-0.48.0\n"
     ]
    }
   ],
   "source": [
    "pip install --upgrade \"ibm-watson>=4.5.0\"\n"
   ]
  },
  {
   "cell_type": "code",
   "execution_count": null,
   "metadata": {
    "colab": {},
    "colab_type": "code",
    "id": "8m-AIw1mE3r7"
   },
   "outputs": [],
   "source": []
  },
  {
   "cell_type": "code",
   "execution_count": null,
   "metadata": {
    "colab": {
     "base_uri": "https://localhost:8080/",
     "height": 203
    },
    "colab_type": "code",
    "id": "sbUPEI9YEcwo",
    "outputId": "d23f7c2f-f417-4368-c4b5-7c3bc9290c3f"
   },
   "outputs": [
    {
     "name": "stdout",
     "output_type": "stream",
     "text": [
      "Requirement already satisfied: ibm_cloud_sdk_core in /usr/local/lib/python3.6/dist-packages (1.5.1)\n",
      "Requirement already satisfied: python-dateutil>=2.5.3 in /usr/local/lib/python3.6/dist-packages (from ibm_cloud_sdk_core) (2.8.1)\n",
      "Requirement already satisfied: requests<3.0,>=2.0 in /usr/local/lib/python3.6/dist-packages (from ibm_cloud_sdk_core) (2.23.0)\n",
      "Requirement already satisfied: PyJWT>=1.7.1 in /usr/local/lib/python3.6/dist-packages (from ibm_cloud_sdk_core) (1.7.1)\n",
      "Requirement already satisfied: six>=1.5 in /usr/local/lib/python3.6/dist-packages (from python-dateutil>=2.5.3->ibm_cloud_sdk_core) (1.12.0)\n",
      "Requirement already satisfied: idna<3,>=2.5 in /usr/local/lib/python3.6/dist-packages (from requests<3.0,>=2.0->ibm_cloud_sdk_core) (2.9)\n",
      "Requirement already satisfied: chardet<4,>=3.0.2 in /usr/local/lib/python3.6/dist-packages (from requests<3.0,>=2.0->ibm_cloud_sdk_core) (3.0.4)\n",
      "Requirement already satisfied: certifi>=2017.4.17 in /usr/local/lib/python3.6/dist-packages (from requests<3.0,>=2.0->ibm_cloud_sdk_core) (2020.4.5.2)\n",
      "Requirement already satisfied: urllib3!=1.25.0,!=1.25.1,<1.26,>=1.21.1 in /usr/local/lib/python3.6/dist-packages (from requests<3.0,>=2.0->ibm_cloud_sdk_core) (1.24.3)\n"
     ]
    }
   ],
   "source": [
    "!pip install ibm_cloud_sdk_core"
   ]
  },
  {
   "cell_type": "code",
   "execution_count": null,
   "metadata": {
    "ExecuteTime": {
     "end_time": "2020-04-13T00:35:18.622647Z",
     "start_time": "2020-04-13T00:35:17.669781Z"
    },
    "colab": {},
    "colab_type": "code",
    "id": "OGfV_PI2-aH8"
   },
   "outputs": [],
   "source": [
    "from ibm_watson import ToneAnalyzerV3\n",
    "from ibm_cloud_sdk_core.authenticators import IAMAuthenticator\n",
    "from ibm_watson import ApiException\n",
    "import json\n",
    "import os\n",
    "import pandas as pd\n",
    "from langdetect import detect\n",
    "import random\n",
    "import re\n",
    "import time\n",
    "from sklearn.model_selection import train_test_split\n",
    "import ast"
   ]
  },
  {
   "attachments": {},
   "cell_type": "markdown",
   "metadata": {
    "colab_type": "text",
    "id": "rEzm6mhH-aIJ"
   },
   "source": [
    "# Raw Data Combination & Preprocessing"
   ]
  },
  {
   "cell_type": "code",
   "execution_count": null,
   "metadata": {
    "ExecuteTime": {
     "end_time": "2020-04-13T00:38:07.371690Z",
     "start_time": "2020-04-13T00:38:07.364710Z"
    },
    "colab": {},
    "colab_type": "code",
    "id": "BBZflyNb-aIL"
   },
   "outputs": [],
   "source": [
    "# Read raw datas from the raw data file\n",
    "path = r'D:\\Winter 2020\\COVID2019\\tweet0120_0220\\\\'\n",
    "files = os.listdir(path)"
   ]
  },
  {
   "cell_type": "code",
   "execution_count": null,
   "metadata": {
    "ExecuteTime": {
     "end_time": "2020-04-13T00:39:44.439635Z",
     "start_time": "2020-04-13T00:39:31.266937Z"
    },
    "colab": {
     "base_uri": "https://localhost:8080/",
     "height": 382
    },
    "colab_type": "code",
    "id": "FjtzlrQD-aIX",
    "outputId": "870f4454-4d50-442d-ab1b-19ab83f8d85c"
   },
   "outputs": [
    {
     "ename": "ValueError",
     "evalue": "ignored",
     "output_type": "error",
     "traceback": [
      "\u001b[0;31m---------------------------------------------------------------------------\u001b[0m",
      "\u001b[0;31mValueError\u001b[0m                                Traceback (most recent call last)",
      "\u001b[0;32m<ipython-input-10-472bde798050>\u001b[0m in \u001b[0;36m<module>\u001b[0;34m()\u001b[0m\n\u001b[1;32m      2\u001b[0m \u001b[0;31m# Concat the Twitters data into one-table\u001b[0m\u001b[0;34m\u001b[0m\u001b[0;34m\u001b[0m\u001b[0;34m\u001b[0m\u001b[0m\n\u001b[1;32m      3\u001b[0m \u001b[0;31m#for file in files:\u001b[0m\u001b[0;34m\u001b[0m\u001b[0;34m\u001b[0m\u001b[0;34m\u001b[0m\u001b[0m\n\u001b[0;32m----> 4\u001b[0;31m \u001b[0mdata\u001b[0m \u001b[0;34m=\u001b[0m \u001b[0mpd\u001b[0m\u001b[0;34m.\u001b[0m\u001b[0mread_json\u001b[0m\u001b[0;34m(\u001b[0m\u001b[0mfiles\u001b[0m\u001b[0;34m)\u001b[0m\u001b[0;34m\u001b[0m\u001b[0;34m\u001b[0m\u001b[0m\n\u001b[0m\u001b[1;32m      5\u001b[0m \u001b[0mcovid_twitter_data\u001b[0m \u001b[0;34m=\u001b[0m \u001b[0mcovid_twitter_data\u001b[0m\u001b[0;34m.\u001b[0m\u001b[0mappend\u001b[0m\u001b[0;34m(\u001b[0m\u001b[0mdata\u001b[0m\u001b[0;34m,\u001b[0m \u001b[0mignore_index\u001b[0m\u001b[0;34m=\u001b[0m\u001b[0;32mTrue\u001b[0m\u001b[0;34m)\u001b[0m\u001b[0;34m\u001b[0m\u001b[0;34m\u001b[0m\u001b[0m\n",
      "\u001b[0;32m/usr/local/lib/python3.6/dist-packages/pandas/util/_decorators.py\u001b[0m in \u001b[0;36mwrapper\u001b[0;34m(*args, **kwargs)\u001b[0m\n\u001b[1;32m    212\u001b[0m                 \u001b[0;32melse\u001b[0m\u001b[0;34m:\u001b[0m\u001b[0;34m\u001b[0m\u001b[0;34m\u001b[0m\u001b[0m\n\u001b[1;32m    213\u001b[0m                     \u001b[0mkwargs\u001b[0m\u001b[0;34m[\u001b[0m\u001b[0mnew_arg_name\u001b[0m\u001b[0;34m]\u001b[0m \u001b[0;34m=\u001b[0m \u001b[0mnew_arg_value\u001b[0m\u001b[0;34m\u001b[0m\u001b[0;34m\u001b[0m\u001b[0m\n\u001b[0;32m--> 214\u001b[0;31m             \u001b[0;32mreturn\u001b[0m \u001b[0mfunc\u001b[0m\u001b[0;34m(\u001b[0m\u001b[0;34m*\u001b[0m\u001b[0margs\u001b[0m\u001b[0;34m,\u001b[0m \u001b[0;34m**\u001b[0m\u001b[0mkwargs\u001b[0m\u001b[0;34m)\u001b[0m\u001b[0;34m\u001b[0m\u001b[0;34m\u001b[0m\u001b[0m\n\u001b[0m\u001b[1;32m    215\u001b[0m \u001b[0;34m\u001b[0m\u001b[0m\n\u001b[1;32m    216\u001b[0m         \u001b[0;32mreturn\u001b[0m \u001b[0mcast\u001b[0m\u001b[0;34m(\u001b[0m\u001b[0mF\u001b[0m\u001b[0;34m,\u001b[0m \u001b[0mwrapper\u001b[0m\u001b[0;34m)\u001b[0m\u001b[0;34m\u001b[0m\u001b[0;34m\u001b[0m\u001b[0m\n",
      "\u001b[0;32m/usr/local/lib/python3.6/dist-packages/pandas/io/json/_json.py\u001b[0m in \u001b[0;36mread_json\u001b[0;34m(path_or_buf, orient, typ, dtype, convert_axes, convert_dates, keep_default_dates, numpy, precise_float, date_unit, encoding, lines, chunksize, compression)\u001b[0m\n\u001b[1;32m    606\u001b[0m         \u001b[0;32mreturn\u001b[0m \u001b[0mjson_reader\u001b[0m\u001b[0;34m\u001b[0m\u001b[0;34m\u001b[0m\u001b[0m\n\u001b[1;32m    607\u001b[0m \u001b[0;34m\u001b[0m\u001b[0m\n\u001b[0;32m--> 608\u001b[0;31m     \u001b[0mresult\u001b[0m \u001b[0;34m=\u001b[0m \u001b[0mjson_reader\u001b[0m\u001b[0;34m.\u001b[0m\u001b[0mread\u001b[0m\u001b[0;34m(\u001b[0m\u001b[0;34m)\u001b[0m\u001b[0;34m\u001b[0m\u001b[0;34m\u001b[0m\u001b[0m\n\u001b[0m\u001b[1;32m    609\u001b[0m     \u001b[0;32mif\u001b[0m \u001b[0mshould_close\u001b[0m\u001b[0;34m:\u001b[0m\u001b[0;34m\u001b[0m\u001b[0;34m\u001b[0m\u001b[0m\n\u001b[1;32m    610\u001b[0m         \u001b[0mfilepath_or_buffer\u001b[0m\u001b[0;34m.\u001b[0m\u001b[0mclose\u001b[0m\u001b[0;34m(\u001b[0m\u001b[0;34m)\u001b[0m\u001b[0;34m\u001b[0m\u001b[0;34m\u001b[0m\u001b[0m\n",
      "\u001b[0;32m/usr/local/lib/python3.6/dist-packages/pandas/io/json/_json.py\u001b[0m in \u001b[0;36mread\u001b[0;34m(self)\u001b[0m\n\u001b[1;32m    729\u001b[0m             \u001b[0mobj\u001b[0m \u001b[0;34m=\u001b[0m \u001b[0mself\u001b[0m\u001b[0;34m.\u001b[0m\u001b[0m_get_object_parser\u001b[0m\u001b[0;34m(\u001b[0m\u001b[0mself\u001b[0m\u001b[0;34m.\u001b[0m\u001b[0m_combine_lines\u001b[0m\u001b[0;34m(\u001b[0m\u001b[0mdata\u001b[0m\u001b[0;34m.\u001b[0m\u001b[0msplit\u001b[0m\u001b[0;34m(\u001b[0m\u001b[0;34m\"\\n\"\u001b[0m\u001b[0;34m)\u001b[0m\u001b[0;34m)\u001b[0m\u001b[0;34m)\u001b[0m\u001b[0;34m\u001b[0m\u001b[0;34m\u001b[0m\u001b[0m\n\u001b[1;32m    730\u001b[0m         \u001b[0;32melse\u001b[0m\u001b[0;34m:\u001b[0m\u001b[0;34m\u001b[0m\u001b[0;34m\u001b[0m\u001b[0m\n\u001b[0;32m--> 731\u001b[0;31m             \u001b[0mobj\u001b[0m \u001b[0;34m=\u001b[0m \u001b[0mself\u001b[0m\u001b[0;34m.\u001b[0m\u001b[0m_get_object_parser\u001b[0m\u001b[0;34m(\u001b[0m\u001b[0mself\u001b[0m\u001b[0;34m.\u001b[0m\u001b[0mdata\u001b[0m\u001b[0;34m)\u001b[0m\u001b[0;34m\u001b[0m\u001b[0;34m\u001b[0m\u001b[0m\n\u001b[0m\u001b[1;32m    732\u001b[0m         \u001b[0mself\u001b[0m\u001b[0;34m.\u001b[0m\u001b[0mclose\u001b[0m\u001b[0;34m(\u001b[0m\u001b[0;34m)\u001b[0m\u001b[0;34m\u001b[0m\u001b[0;34m\u001b[0m\u001b[0m\n\u001b[1;32m    733\u001b[0m         \u001b[0;32mreturn\u001b[0m \u001b[0mobj\u001b[0m\u001b[0;34m\u001b[0m\u001b[0;34m\u001b[0m\u001b[0m\n",
      "\u001b[0;32m/usr/local/lib/python3.6/dist-packages/pandas/io/json/_json.py\u001b[0m in \u001b[0;36m_get_object_parser\u001b[0;34m(self, json)\u001b[0m\n\u001b[1;32m    751\u001b[0m         \u001b[0mobj\u001b[0m \u001b[0;34m=\u001b[0m \u001b[0;32mNone\u001b[0m\u001b[0;34m\u001b[0m\u001b[0;34m\u001b[0m\u001b[0m\n\u001b[1;32m    752\u001b[0m         \u001b[0;32mif\u001b[0m \u001b[0mtyp\u001b[0m \u001b[0;34m==\u001b[0m \u001b[0;34m\"frame\"\u001b[0m\u001b[0;34m:\u001b[0m\u001b[0;34m\u001b[0m\u001b[0;34m\u001b[0m\u001b[0m\n\u001b[0;32m--> 753\u001b[0;31m             \u001b[0mobj\u001b[0m \u001b[0;34m=\u001b[0m \u001b[0mFrameParser\u001b[0m\u001b[0;34m(\u001b[0m\u001b[0mjson\u001b[0m\u001b[0;34m,\u001b[0m \u001b[0;34m**\u001b[0m\u001b[0mkwargs\u001b[0m\u001b[0;34m)\u001b[0m\u001b[0;34m.\u001b[0m\u001b[0mparse\u001b[0m\u001b[0;34m(\u001b[0m\u001b[0;34m)\u001b[0m\u001b[0;34m\u001b[0m\u001b[0;34m\u001b[0m\u001b[0m\n\u001b[0m\u001b[1;32m    754\u001b[0m \u001b[0;34m\u001b[0m\u001b[0m\n\u001b[1;32m    755\u001b[0m         \u001b[0;32mif\u001b[0m \u001b[0mtyp\u001b[0m \u001b[0;34m==\u001b[0m \u001b[0;34m\"series\"\u001b[0m \u001b[0;32mor\u001b[0m \u001b[0mobj\u001b[0m \u001b[0;32mis\u001b[0m \u001b[0;32mNone\u001b[0m\u001b[0;34m:\u001b[0m\u001b[0;34m\u001b[0m\u001b[0;34m\u001b[0m\u001b[0m\n",
      "\u001b[0;32m/usr/local/lib/python3.6/dist-packages/pandas/io/json/_json.py\u001b[0m in \u001b[0;36mparse\u001b[0;34m(self)\u001b[0m\n\u001b[1;32m    855\u001b[0m \u001b[0;34m\u001b[0m\u001b[0m\n\u001b[1;32m    856\u001b[0m         \u001b[0;32melse\u001b[0m\u001b[0;34m:\u001b[0m\u001b[0;34m\u001b[0m\u001b[0;34m\u001b[0m\u001b[0m\n\u001b[0;32m--> 857\u001b[0;31m             \u001b[0mself\u001b[0m\u001b[0;34m.\u001b[0m\u001b[0m_parse_no_numpy\u001b[0m\u001b[0;34m(\u001b[0m\u001b[0;34m)\u001b[0m\u001b[0;34m\u001b[0m\u001b[0;34m\u001b[0m\u001b[0m\n\u001b[0m\u001b[1;32m    858\u001b[0m \u001b[0;34m\u001b[0m\u001b[0m\n\u001b[1;32m    859\u001b[0m         \u001b[0;32mif\u001b[0m \u001b[0mself\u001b[0m\u001b[0;34m.\u001b[0m\u001b[0mobj\u001b[0m \u001b[0;32mis\u001b[0m \u001b[0;32mNone\u001b[0m\u001b[0;34m:\u001b[0m\u001b[0;34m\u001b[0m\u001b[0;34m\u001b[0m\u001b[0m\n",
      "\u001b[0;32m/usr/local/lib/python3.6/dist-packages/pandas/io/json/_json.py\u001b[0m in \u001b[0;36m_parse_no_numpy\u001b[0;34m(self)\u001b[0m\n\u001b[1;32m   1087\u001b[0m         \u001b[0;32mif\u001b[0m \u001b[0morient\u001b[0m \u001b[0;34m==\u001b[0m \u001b[0;34m\"columns\"\u001b[0m\u001b[0;34m:\u001b[0m\u001b[0;34m\u001b[0m\u001b[0;34m\u001b[0m\u001b[0m\n\u001b[1;32m   1088\u001b[0m             self.obj = DataFrame(\n\u001b[0;32m-> 1089\u001b[0;31m                 \u001b[0mloads\u001b[0m\u001b[0;34m(\u001b[0m\u001b[0mjson\u001b[0m\u001b[0;34m,\u001b[0m \u001b[0mprecise_float\u001b[0m\u001b[0;34m=\u001b[0m\u001b[0mself\u001b[0m\u001b[0;34m.\u001b[0m\u001b[0mprecise_float\u001b[0m\u001b[0;34m)\u001b[0m\u001b[0;34m,\u001b[0m \u001b[0mdtype\u001b[0m\u001b[0;34m=\u001b[0m\u001b[0;32mNone\u001b[0m\u001b[0;34m\u001b[0m\u001b[0;34m\u001b[0m\u001b[0m\n\u001b[0m\u001b[1;32m   1090\u001b[0m             )\n\u001b[1;32m   1091\u001b[0m         \u001b[0;32melif\u001b[0m \u001b[0morient\u001b[0m \u001b[0;34m==\u001b[0m \u001b[0;34m\"split\"\u001b[0m\u001b[0;34m:\u001b[0m\u001b[0;34m\u001b[0m\u001b[0;34m\u001b[0m\u001b[0m\n",
      "\u001b[0;31mValueError\u001b[0m: Expected object or value"
     ]
    }
   ],
   "source": [
    "covid_twitter_data = pd.DataFrame()\n",
    "# Concat the Twitters data into one-table\n",
    "for file in files:\n",
    "    data = pd.read_csv(str(path) + file)\n",
    "    covid_twitter_data = covid_twitter_data.append(data, ignore_index=True)"
   ]
  },
  {
   "cell_type": "code",
   "execution_count": null,
   "metadata": {
    "ExecuteTime": {
     "end_time": "2020-04-13T02:10:50.576609Z",
     "start_time": "2020-04-13T02:10:50.569628Z"
    },
    "colab": {},
    "colab_type": "code",
    "id": "F7uKGkLx-aIk"
   },
   "outputs": [],
   "source": [
    "os.chdir(r'D:\\Winter 2020\\COVID2019')"
   ]
  },
  {
   "cell_type": "code",
   "execution_count": null,
   "metadata": {
    "ExecuteTime": {
     "end_time": "2020-04-13T00:40:53.144564Z",
     "start_time": "2020-04-13T00:40:40.441638Z"
    },
    "colab": {},
    "colab_type": "code",
    "id": "toIJW-nr-aIv"
   },
   "outputs": [],
   "source": [
    "# Save the dataset\n",
    "covid_twitter_data.to_json('febbraiosistemato.json',index=False)\n"
   ]
  },
  {
   "cell_type": "code",
   "execution_count": null,
   "metadata": {
    "colab": {},
    "colab_type": "code",
    "id": "00Fhf47WJVYW"
   },
   "outputs": [],
   "source": [
    "covid_twitter_data=pd.read_csv('ProvaDataset.csv')"
   ]
  },
  {
   "cell_type": "code",
   "execution_count": null,
   "metadata": {
    "ExecuteTime": {
     "end_time": "2020-04-13T01:45:52.102196Z",
     "start_time": "2020-04-13T00:47:30.563373Z"
    },
    "colab": {},
    "colab_type": "code",
    "id": "G1hKUlpS-aI4"
   },
   "outputs": [],
   "source": [
    "# Clean text \n",
    "t = time.process_time()\n",
    "clean_text = []\n",
    "non_en = []\n",
    "error = []\n",
    "index = 0\n",
    "for item in covid_twitter_data['full_text']:\n",
    "    try:\n",
    "        index = index +1\n",
    "        # Delete url in text\n",
    "        item = re.sub('(http[s]?://(?:[a-zA-Z]|[0-9]|[$-_@.&+]|[!*\\(\\),]|(?:%[0-9a-fA-F][0-9a-fA-F]|(\\xa0(…)*)))+){1}','',item)\n",
    "        # Delete @\n",
    "        item = re.sub('@[a-zA-Z0-9_.-]+','',item)\n",
    "\n",
    "        try:\n",
    "            # Detect whether twitter is in English or not \n",
    "            if detect(item) == 'en':\n",
    "                clean_text.append(item)\n",
    "            else:\n",
    "                clean_text.append(None)\n",
    "                non_en.append(index)\n",
    "        except:\n",
    "            error.append(index)\n",
    "            clean_text.append(None)\n",
    "    except:\n",
    "        error.append(index)\n",
    "        clean_text.append(None)"
   ]
  },
  {
   "cell_type": "code",
   "execution_count": null,
   "metadata": {
    "ExecuteTime": {
     "end_time": "2020-04-13T02:10:54.019120Z",
     "start_time": "2020-04-13T02:10:53.421204Z"
    },
    "colab": {},
    "colab_type": "code",
    "id": "qMTz7r3M-aJD"
   },
   "outputs": [],
   "source": [
    "# Save error tweets \n",
    "error_df = pd.DataFrame(error)\n",
    "non_en_df = pd.DataFrame(non_en)\n",
    "error_df.to_csv('error_df.csv',index=False)\n",
    "non_en_df.to_csv('non_en_df.csv',index=False)"
   ]
  },
  {
   "cell_type": "code",
   "execution_count": null,
   "metadata": {
    "ExecuteTime": {
     "end_time": "2020-04-13T02:12:06.507918Z",
     "start_time": "2020-04-13T02:11:47.312758Z"
    },
    "colab": {
     "base_uri": "https://localhost:8080/",
     "height": 206
    },
    "colab_type": "code",
    "id": "Bb6z6qT--aJP",
    "outputId": "d0b56fd2-740d-4647-929d-d1c5a9f02851"
   },
   "outputs": [
    {
     "data": {
      "text/html": [
       "<div>\n",
       "<style scoped>\n",
       "    .dataframe tbody tr th:only-of-type {\n",
       "        vertical-align: middle;\n",
       "    }\n",
       "\n",
       "    .dataframe tbody tr th {\n",
       "        vertical-align: top;\n",
       "    }\n",
       "\n",
       "    .dataframe thead th {\n",
       "        text-align: right;\n",
       "    }\n",
       "</style>\n",
       "<table border=\"1\" class=\"dataframe\">\n",
       "  <thead>\n",
       "    <tr style=\"text-align: right;\">\n",
       "      <th></th>\n",
       "      <th>_id</th>\n",
       "      <th>full_text</th>\n",
       "      <th>lang</th>\n",
       "      <th>clean_text</th>\n",
       "    </tr>\n",
       "  </thead>\n",
       "  <tbody>\n",
       "    <tr>\n",
       "      <th>0</th>\n",
       "      <td>5ef0f9e1f806feafcc979227</td>\n",
       "      <td>RT @mynassah: Front-line health workers haven'...</td>\n",
       "      <td>en</td>\n",
       "      <td>RT : Front-line health workers haven't been pa...</td>\n",
       "    </tr>\n",
       "    <tr>\n",
       "      <th>1</th>\n",
       "      <td>5ef0f9e1f806feafcc979229</td>\n",
       "      <td>RT @ShahanR: Today I tested positive for COVID...</td>\n",
       "      <td>en</td>\n",
       "      <td>RT : Today I tested positive for COVID-19. I’m...</td>\n",
       "    </tr>\n",
       "    <tr>\n",
       "      <th>2</th>\n",
       "      <td>5ef0f9e1f806feafcc97922b</td>\n",
       "      <td>RT @mattbc: Do you think maybe there's a conne...</td>\n",
       "      <td>en</td>\n",
       "      <td>RT : Do you think maybe there's a connection b...</td>\n",
       "    </tr>\n",
       "    <tr>\n",
       "      <th>3</th>\n",
       "      <td>5ef0f9e1f806feafcc97922e</td>\n",
       "      <td>RT @LoyalDefender2K: Although it needs to be s...</td>\n",
       "      <td>en</td>\n",
       "      <td>RT : Although it needs to be said, I’m genuine...</td>\n",
       "    </tr>\n",
       "    <tr>\n",
       "      <th>4</th>\n",
       "      <td>5ef0f9e1f806feafcc979233</td>\n",
       "      <td>RT @irishmissionun: #COVID19 has impacted all ...</td>\n",
       "      <td>en</td>\n",
       "      <td>RT : #COVID19 has impacted all three pillars o...</td>\n",
       "    </tr>\n",
       "  </tbody>\n",
       "</table>\n",
       "</div>"
      ],
      "text/plain": [
       "                        _id  ...                                         clean_text\n",
       "0  5ef0f9e1f806feafcc979227  ...  RT : Front-line health workers haven't been pa...\n",
       "1  5ef0f9e1f806feafcc979229  ...  RT : Today I tested positive for COVID-19. I’m...\n",
       "2  5ef0f9e1f806feafcc97922b  ...  RT : Do you think maybe there's a connection b...\n",
       "3  5ef0f9e1f806feafcc97922e  ...  RT : Although it needs to be said, I’m genuine...\n",
       "4  5ef0f9e1f806feafcc979233  ...  RT : #COVID19 has impacted all three pillars o...\n",
       "\n",
       "[5 rows x 4 columns]"
      ]
     },
     "execution_count": 8,
     "metadata": {
      "tags": []
     },
     "output_type": "execute_result"
    }
   ],
   "source": [
    "clean_text = pd.DataFrame(clean_text)\n",
    "clean_text.columns=['clean_text']\n",
    "data = pd.concat([covid_twitter_data, clean_text], axis=1)\n",
    "data.to_csv('covid2019_0120_0220_cleans.csv',index=False)\n",
    "data.head()"
   ]
  },
  {
   "cell_type": "code",
   "execution_count": null,
   "metadata": {
    "ExecuteTime": {
     "end_time": "2020-04-13T02:12:39.894786Z",
     "start_time": "2020-04-13T02:12:39.501869Z"
    },
    "colab": {},
    "colab_type": "code",
    "id": "4B3vV_Zg-aJa"
   },
   "outputs": [],
   "source": [
    "# Drop the row when clean_text is none\n",
    "data_strip_none = data[data.clean_text.notnull()]\n",
    "data_strip_none = data_strip_none.set_index(pd.Index(range(0,len(data_strip_none))))"
   ]
  },
  {
   "cell_type": "code",
   "execution_count": null,
   "metadata": {
    "ExecuteTime": {
     "end_time": "2020-04-13T02:18:31.405667Z",
     "start_time": "2020-04-13T02:18:20.290449Z"
    },
    "colab": {},
    "colab_type": "code",
    "id": "lsBFw2kL-aJl"
   },
   "outputs": [],
   "source": [
    "# random select 2500 samples\n",
    "random.seed(9001)\n",
    "\n",
    "data_api, data_test = train_test_split(data_strip_none, train_size=100, random_state=0)\n",
    "\n",
    "# Reset index\n",
    "data_api = data_api.set_index(pd.Index(range(0,len(data_api))))\n",
    "data_test = data_test.set_index(pd.Index(range(0,len(data_test))))\n",
    "\n",
    "# Save the dataset\n",
    "data_api.to_csv('data_api.csv',index=False)\n",
    "data_test.to_csv('data_test_0120_0220.csv',index=False)"
   ]
  },
  {
   "attachments": {},
   "cell_type": "markdown",
   "metadata": {
    "colab_type": "text",
    "id": "POkUNSD7-aJu"
   },
   "source": [
    "# IBM Tone Analyzer"
   ]
  },
  {
   "cell_type": "code",
   "execution_count": null,
   "metadata": {
    "ExecuteTime": {
     "end_time": "2020-04-13T05:41:41.807983Z",
     "start_time": "2020-04-13T05:41:41.541596Z"
    },
    "colab": {},
    "colab_type": "code",
    "id": "BX8Mocph-aJy"
   },
   "outputs": [],
   "source": [
    "data_api = pd.read_csv('data_api.csv')"
   ]
  },
  {
   "cell_type": "code",
   "execution_count": null,
   "metadata": {
    "ExecuteTime": {
     "end_time": "2020-04-13T05:41:42.459438Z",
     "start_time": "2020-04-13T05:41:42.451489Z"
    },
    "colab": {},
    "colab_type": "code",
    "id": "VMQOaNEZ-aJ7"
   },
   "outputs": [],
   "source": [
    "#attenzione a questo campo\n",
    "data_api_12000 = data_api.iloc[1:200,]"
   ]
  },
  {
   "cell_type": "code",
   "execution_count": null,
   "metadata": {
    "ExecuteTime": {
     "end_time": "2020-04-13T05:42:04.676976Z",
     "start_time": "2020-04-13T05:42:04.641106Z"
    },
    "colab": {
     "base_uri": "https://localhost:8080/",
     "height": 206
    },
    "colab_type": "code",
    "id": "jx1OgTrd-aKD",
    "outputId": "1cdea44f-2d08-436a-ca18-c1ca49ef15b9"
   },
   "outputs": [
    {
     "data": {
      "text/html": [
       "<div>\n",
       "<style scoped>\n",
       "    .dataframe tbody tr th:only-of-type {\n",
       "        vertical-align: middle;\n",
       "    }\n",
       "\n",
       "    .dataframe tbody tr th {\n",
       "        vertical-align: top;\n",
       "    }\n",
       "\n",
       "    .dataframe thead th {\n",
       "        text-align: right;\n",
       "    }\n",
       "</style>\n",
       "<table border=\"1\" class=\"dataframe\">\n",
       "  <thead>\n",
       "    <tr style=\"text-align: right;\">\n",
       "      <th></th>\n",
       "      <th>_id</th>\n",
       "      <th>full_text</th>\n",
       "      <th>lang</th>\n",
       "      <th>clean_text</th>\n",
       "    </tr>\n",
       "  </thead>\n",
       "  <tbody>\n",
       "    <tr>\n",
       "      <th>1</th>\n",
       "      <td>5ef0f9e1f806feafcc979334</td>\n",
       "      <td>RT @openletterbot: 📬 I delivered this ✉️ from ...</td>\n",
       "      <td>en</td>\n",
       "      <td>RT : 📬 I delivered this ✉️ from Sandra, a 🗳 ve...</td>\n",
       "    </tr>\n",
       "    <tr>\n",
       "      <th>2</th>\n",
       "      <td>5ef0f9e1f806feafcc979255</td>\n",
       "      <td>RT @ohyesitseve: 500 Delta employees test posi...</td>\n",
       "      <td>en</td>\n",
       "      <td>RT : 500 Delta employees test positive for cov...</td>\n",
       "    </tr>\n",
       "    <tr>\n",
       "      <th>3</th>\n",
       "      <td>5ef0f9e1f806feafcc979401</td>\n",
       "      <td>RT @GovMikeDeWine: #Ohio's #COVID19 data for J...</td>\n",
       "      <td>en</td>\n",
       "      <td>RT : #Ohio's #COVID19 data for June 22, 2020.\\...</td>\n",
       "    </tr>\n",
       "    <tr>\n",
       "      <th>4</th>\n",
       "      <td>5ef0f9e1f806feafcc979338</td>\n",
       "      <td>RT @KushaKapila: A friend's father is Covid po...</td>\n",
       "      <td>en</td>\n",
       "      <td>RT : A friend's father is Covid positive and h...</td>\n",
       "    </tr>\n",
       "    <tr>\n",
       "      <th>5</th>\n",
       "      <td>5ef0f9e1f806feafcc9792c0</td>\n",
       "      <td>RT @Taheri_Movement: #Iran: Shocking charges a...</td>\n",
       "      <td>en</td>\n",
       "      <td>RT : #Iran: Shocking charges against jailed wo...</td>\n",
       "    </tr>\n",
       "  </tbody>\n",
       "</table>\n",
       "</div>"
      ],
      "text/plain": [
       "                        _id  ...                                         clean_text\n",
       "1  5ef0f9e1f806feafcc979334  ...  RT : 📬 I delivered this ✉️ from Sandra, a 🗳 ve...\n",
       "2  5ef0f9e1f806feafcc979255  ...  RT : 500 Delta employees test positive for cov...\n",
       "3  5ef0f9e1f806feafcc979401  ...  RT : #Ohio's #COVID19 data for June 22, 2020.\\...\n",
       "4  5ef0f9e1f806feafcc979338  ...  RT : A friend's father is Covid positive and h...\n",
       "5  5ef0f9e1f806feafcc9792c0  ...  RT : #Iran: Shocking charges against jailed wo...\n",
       "\n",
       "[5 rows x 4 columns]"
      ]
     },
     "execution_count": 4,
     "metadata": {
      "tags": []
     },
     "output_type": "execute_result"
    }
   ],
   "source": [
    "data_api_12000.head()"
   ]
  },
  {
   "cell_type": "code",
   "execution_count": null,
   "metadata": {
    "ExecuteTime": {
     "end_time": "2020-04-13T05:42:07.320762Z",
     "start_time": "2020-04-13T05:42:07.314778Z"
    },
    "colab": {},
    "colab_type": "code",
    "id": "2kf3v-QR-aKP"
   },
   "outputs": [],
   "source": [
    "authenticator = IAMAuthenticator(\"lL3HidlNJlRkg7zXVK9MWe*******\") #Private\n",
    "tone_analyzer = ToneAnalyzerV3(\n",
    "    version='2017-09-21',\n",
    "    authenticator=authenticator\n",
    ")\n",
    "\n",
    "tone_analyzer.set_service_url('https://api.eu-gb.tone-analyzer.watson.cloud.ibm.com')\n",
    "tone_analyzer.set_disable_ssl_verification(False)\n"
   ]
  },
  {
   "cell_type": "code",
   "execution_count": null,
   "metadata": {
    "colab": {},
    "colab_type": "code",
    "id": "N0mRywiQVJo1"
   },
   "outputs": [],
   "source": [
    "#provo altro metodo di autenticazione NON VA BENE\n",
    "from ibm_watson import ToneAnalyzerV3\n",
    "from ibm_cloud_sdk_core.authenticators import BasicAuthenticator\n",
    "\n",
    "authenticator = BasicAuthenticator('sylar****','****')\n",
    "\n",
    "tone_analyzer = ToneAnalyzerV3(\n",
    "    version='2017-09-21',\n",
    "    authenticator=authenticator\n",
    ")\n",
    "\n",
    "tone_analyzer.set_service_url('https://api.eu-gb.tone-analyzer.watson.cloud.ibm.com')"
   ]
  },
  {
   "cell_type": "code",
   "execution_count": null,
   "metadata": {
    "ExecuteTime": {
     "end_time": "2020-04-13T02:27:45.132451Z",
     "start_time": "2020-04-13T02:27:45.122445Z"
    },
    "colab": {},
    "colab_type": "code",
    "id": "ahFeA_rv-aKX"
   },
   "outputs": [],
   "source": [
    "#tone_analyzer.set_detailed_response(True)\n",
    "#response = tone_analyzer.methodName(parameters)\n",
    "## Access response from methodName\n",
    "#print(json.dumps(response.get_result(), indent=2))\n",
    "# # Access information in response headers\n",
    "#print(response.get_headers())\n",
    "# # Access HTTP response status\n",
    "#print(response.get_status_code())"
   ]
  },
  {
   "cell_type": "code",
   "execution_count": null,
   "metadata": {
    "ExecuteTime": {
     "end_time": "2020-04-13T02:28:27.235343Z",
     "start_time": "2020-04-13T02:28:27.232383Z"
    },
    "colab": {},
    "colab_type": "code",
    "id": "Js2UnSIK-aKf"
   },
   "outputs": [],
   "source": [
    "# try:\n",
    "#     print(tone_analyzer.tone('Trump is a foolish', content_type='text/plain') )\n",
    "# except ApiException as ex:\n",
    "#     print (\"Method failed with status code \" + str(ex.code) + \": \" + ex.message)"
   ]
  },
  {
   "cell_type": "code",
   "execution_count": null,
   "metadata": {
    "ExecuteTime": {
     "end_time": "2020-04-13T05:58:54.247456Z",
     "start_time": "2020-04-13T05:42:16.284712Z"
    },
    "colab": {},
    "colab_type": "code",
    "id": "07iADzxN-aKm"
   },
   "outputs": [],
   "source": [
    "tones = []\n",
    "index = 0\n",
    "for item in data_api_12000['clean_text']:\n",
    "    try:\n",
    "        index = index + 1\n",
    "        text = item\n",
    "        tone_analysis = tone_analyzer.tone({'text': text}, content_type='application/json').get_result()\n",
    "        tones.append(tone_analysis)\n",
    "    except ApiException as ex:\n",
    "        tones.append(None)\n",
    "        print (\"Method failed with status code \" + str(ex.code) + \": \" + ex.message)"
   ]
  },
  {
   "cell_type": "code",
   "execution_count": null,
   "metadata": {
    "ExecuteTime": {
     "end_time": "2020-04-13T06:03:50.318301Z",
     "start_time": "2020-04-13T06:03:50.307354Z"
    },
    "colab": {},
    "colab_type": "code",
    "id": "BJX0F5Mg-aKs"
   },
   "outputs": [],
   "source": [
    "tones_copy = tones.copy()\n",
    "tones_copy = pd.DataFrame(tones_copy)"
   ]
  },
  {
   "cell_type": "code",
   "execution_count": null,
   "metadata": {
    "ExecuteTime": {
     "end_time": "2020-04-13T06:03:51.259578Z",
     "start_time": "2020-04-13T06:03:51.247609Z"
    },
    "colab": {
     "base_uri": "https://localhost:8080/",
     "height": 206
    },
    "colab_type": "code",
    "id": "COMNC1Jm-aK0",
    "outputId": "166732b3-46ff-4255-aed0-c87c5b28c34a"
   },
   "outputs": [
    {
     "data": {
      "text/html": [
       "<div>\n",
       "<style scoped>\n",
       "    .dataframe tbody tr th:only-of-type {\n",
       "        vertical-align: middle;\n",
       "    }\n",
       "\n",
       "    .dataframe tbody tr th {\n",
       "        vertical-align: top;\n",
       "    }\n",
       "\n",
       "    .dataframe thead th {\n",
       "        text-align: right;\n",
       "    }\n",
       "</style>\n",
       "<table border=\"1\" class=\"dataframe\">\n",
       "  <thead>\n",
       "    <tr style=\"text-align: right;\">\n",
       "      <th></th>\n",
       "      <th>document_tone</th>\n",
       "      <th>sentences_tone</th>\n",
       "    </tr>\n",
       "  </thead>\n",
       "  <tbody>\n",
       "    <tr>\n",
       "      <th>0</th>\n",
       "      <td>{'tones': [{'score': 0.512875, 'tone_id': 'sad...</td>\n",
       "      <td>NaN</td>\n",
       "    </tr>\n",
       "    <tr>\n",
       "      <th>1</th>\n",
       "      <td>{'tones': [{'score': 0.783622, 'tone_id': 'joy...</td>\n",
       "      <td>NaN</td>\n",
       "    </tr>\n",
       "    <tr>\n",
       "      <th>2</th>\n",
       "      <td>{'tones': []}</td>\n",
       "      <td>[{'sentence_id': 0, 'text': 'RT : #Ohio's #COV...</td>\n",
       "    </tr>\n",
       "    <tr>\n",
       "      <th>3</th>\n",
       "      <td>{'tones': [{'score': 0.597764, 'tone_id': 'joy...</td>\n",
       "      <td>[{'sentence_id': 0, 'text': 'RT : A friend's f...</td>\n",
       "    </tr>\n",
       "    <tr>\n",
       "      <th>4</th>\n",
       "      <td>{'tones': [{'score': 0.848841, 'tone_id': 'con...</td>\n",
       "      <td>[{'sentence_id': 0, 'text': 'RT : #Iran: Shock...</td>\n",
       "    </tr>\n",
       "  </tbody>\n",
       "</table>\n",
       "</div>"
      ],
      "text/plain": [
       "                                       document_tone                                     sentences_tone\n",
       "0  {'tones': [{'score': 0.512875, 'tone_id': 'sad...                                                NaN\n",
       "1  {'tones': [{'score': 0.783622, 'tone_id': 'joy...                                                NaN\n",
       "2                                      {'tones': []}  [{'sentence_id': 0, 'text': 'RT : #Ohio's #COV...\n",
       "3  {'tones': [{'score': 0.597764, 'tone_id': 'joy...  [{'sentence_id': 0, 'text': 'RT : A friend's f...\n",
       "4  {'tones': [{'score': 0.848841, 'tone_id': 'con...  [{'sentence_id': 0, 'text': 'RT : #Iran: Shock..."
      ]
     },
     "execution_count": 8,
     "metadata": {
      "tags": []
     },
     "output_type": "execute_result"
    }
   ],
   "source": [
    "tones_copy.head()"
   ]
  },
  {
   "cell_type": "code",
   "execution_count": null,
   "metadata": {
    "ExecuteTime": {
     "end_time": "2020-04-13T06:03:58.908840Z",
     "start_time": "2020-04-13T06:03:58.901890Z"
    },
    "colab": {},
    "colab_type": "code",
    "id": "fgWIHwlM-aLB"
   },
   "outputs": [],
   "source": [
    "data_api_12000 = data_api_12000.reset_index()"
   ]
  },
  {
   "cell_type": "code",
   "execution_count": null,
   "metadata": {
    "ExecuteTime": {
     "end_time": "2020-04-13T06:04:00.302114Z",
     "start_time": "2020-04-13T06:04:00.295164Z"
    },
    "colab": {},
    "colab_type": "code",
    "id": "4wBbIzF5-aLI"
   },
   "outputs": [],
   "source": [
    "data_api_12000 = data_api_12000.drop(['index'], axis=1)"
   ]
  },
  {
   "cell_type": "code",
   "execution_count": null,
   "metadata": {
    "ExecuteTime": {
     "end_time": "2020-04-13T06:04:03.217331Z",
     "start_time": "2020-04-13T06:04:03.100516Z"
    },
    "colab": {},
    "colab_type": "code",
    "id": "iyiaBG8a-aLP"
   },
   "outputs": [],
   "source": [
    "data_api_12000 = pd.concat([data_api_12000,tones_copy],axis=1)\n",
    "data_api_12000.to_csv('data_api_12000.csv',index=False)"
   ]
  },
  {
   "attachments": {},
   "cell_type": "markdown",
   "metadata": {
    "colab_type": "text",
    "id": "SnglVrVg-aLV"
   },
   "source": [
    "# Formating the document tones"
   ]
  },
  {
   "cell_type": "code",
   "execution_count": null,
   "metadata": {
    "ExecuteTime": {
     "end_time": "2020-04-13T06:04:05.013782Z",
     "start_time": "2020-04-13T06:04:04.950950Z"
    },
    "colab": {},
    "colab_type": "code",
    "id": "FkUl5PyC-aLV"
   },
   "outputs": [],
   "source": [
    "data = pd.read_csv('data_api_12000.csv')\n"
   ]
  },
  {
   "cell_type": "code",
   "execution_count": null,
   "metadata": {
    "colab": {
     "base_uri": "https://localhost:8080/",
     "height": 598
    },
    "colab_type": "code",
    "id": "DMx2R5Q_i8V8",
    "outputId": "3722ab29-9d20-4adc-a38a-ebf2369b8c3a"
   },
   "outputs": [
    {
     "data": {
      "text/html": [
       "<div>\n",
       "<style scoped>\n",
       "    .dataframe tbody tr th:only-of-type {\n",
       "        vertical-align: middle;\n",
       "    }\n",
       "\n",
       "    .dataframe tbody tr th {\n",
       "        vertical-align: top;\n",
       "    }\n",
       "\n",
       "    .dataframe thead th {\n",
       "        text-align: right;\n",
       "    }\n",
       "</style>\n",
       "<table border=\"1\" class=\"dataframe\">\n",
       "  <thead>\n",
       "    <tr style=\"text-align: right;\">\n",
       "      <th></th>\n",
       "      <th>_id</th>\n",
       "      <th>full_text</th>\n",
       "      <th>lang</th>\n",
       "      <th>clean_text</th>\n",
       "      <th>document_tone</th>\n",
       "      <th>sentences_tone</th>\n",
       "    </tr>\n",
       "  </thead>\n",
       "  <tbody>\n",
       "    <tr>\n",
       "      <th>0</th>\n",
       "      <td>5ef0f9e1f806feafcc979334</td>\n",
       "      <td>RT @openletterbot: 📬 I delivered this ✉️ from ...</td>\n",
       "      <td>en</td>\n",
       "      <td>RT : 📬 I delivered this ✉️ from Sandra, a 🗳 ve...</td>\n",
       "      <td>{'tones': [{'score': 0.512875, 'tone_id': 'sad...</td>\n",
       "      <td>NaN</td>\n",
       "    </tr>\n",
       "    <tr>\n",
       "      <th>1</th>\n",
       "      <td>5ef0f9e1f806feafcc979255</td>\n",
       "      <td>RT @ohyesitseve: 500 Delta employees test posi...</td>\n",
       "      <td>en</td>\n",
       "      <td>RT : 500 Delta employees test positive for cov...</td>\n",
       "      <td>{'tones': [{'score': 0.783622, 'tone_id': 'joy...</td>\n",
       "      <td>NaN</td>\n",
       "    </tr>\n",
       "    <tr>\n",
       "      <th>2</th>\n",
       "      <td>5ef0f9e1f806feafcc979401</td>\n",
       "      <td>RT @GovMikeDeWine: #Ohio's #COVID19 data for J...</td>\n",
       "      <td>en</td>\n",
       "      <td>RT : #Ohio's #COVID19 data for June 22, 2020.\\...</td>\n",
       "      <td>{'tones': []}</td>\n",
       "      <td>[{'sentence_id': 0, 'text': \"RT : #Ohio's #COV...</td>\n",
       "    </tr>\n",
       "    <tr>\n",
       "      <th>3</th>\n",
       "      <td>5ef0f9e1f806feafcc979338</td>\n",
       "      <td>RT @KushaKapila: A friend's father is Covid po...</td>\n",
       "      <td>en</td>\n",
       "      <td>RT : A friend's father is Covid positive and h...</td>\n",
       "      <td>{'tones': [{'score': 0.597764, 'tone_id': 'joy...</td>\n",
       "      <td>[{'sentence_id': 0, 'text': \"RT : A friend's f...</td>\n",
       "    </tr>\n",
       "    <tr>\n",
       "      <th>4</th>\n",
       "      <td>5ef0f9e1f806feafcc9792c0</td>\n",
       "      <td>RT @Taheri_Movement: #Iran: Shocking charges a...</td>\n",
       "      <td>en</td>\n",
       "      <td>RT : #Iran: Shocking charges against jailed wo...</td>\n",
       "      <td>{'tones': [{'score': 0.848841, 'tone_id': 'con...</td>\n",
       "      <td>[{'sentence_id': 0, 'text': 'RT : #Iran:\\xa0Sh...</td>\n",
       "    </tr>\n",
       "    <tr>\n",
       "      <th>...</th>\n",
       "      <td>...</td>\n",
       "      <td>...</td>\n",
       "      <td>...</td>\n",
       "      <td>...</td>\n",
       "      <td>...</td>\n",
       "      <td>...</td>\n",
       "    </tr>\n",
       "    <tr>\n",
       "      <th>94</th>\n",
       "      <td>5ef0f9e1f806feafcc979405</td>\n",
       "      <td>A look at respiratory failure in young healthy...</td>\n",
       "      <td>en</td>\n",
       "      <td>A look at respiratory failure in young healthy...</td>\n",
       "      <td>{'tones': [{'score': 0.589469, 'tone_id': 'joy...</td>\n",
       "      <td>[{'sentence_id': 0, 'text': 'A look at respira...</td>\n",
       "    </tr>\n",
       "    <tr>\n",
       "      <th>95</th>\n",
       "      <td>5ef0f9e1f806feafcc979395</td>\n",
       "      <td>RT @DrDenaGrayson: ‼️#Florida passes 100,000 #...</td>\n",
       "      <td>en</td>\n",
       "      <td>RT : ‼️#Florida passes 100,000 #coronavirus ca...</td>\n",
       "      <td>{'tones': []}</td>\n",
       "      <td>[{'sentence_id': 0, 'text': 'RT : ‼️#Florida p...</td>\n",
       "    </tr>\n",
       "    <tr>\n",
       "      <th>96</th>\n",
       "      <td>5ef0f9e1f806feafcc97930c</td>\n",
       "      <td>RT @PakPMO: This year’s challenge is to make s...</td>\n",
       "      <td>en</td>\n",
       "      <td>RT : This year’s challenge is to make sure tha...</td>\n",
       "      <td>{'tones': [{'score': 0.543112, 'tone_id': 'con...</td>\n",
       "      <td>NaN</td>\n",
       "    </tr>\n",
       "    <tr>\n",
       "      <th>97</th>\n",
       "      <td>5ef0f9e1f806feafcc979284</td>\n",
       "      <td>@KBeds If that were true, why did he make a tr...</td>\n",
       "      <td>en</td>\n",
       "      <td>If that were true, why did he make a trade de...</td>\n",
       "      <td>{'tones': [{'score': 0.509573, 'tone_id': 'joy...</td>\n",
       "      <td>[{'sentence_id': 0, 'text': 'If that were true...</td>\n",
       "    </tr>\n",
       "    <tr>\n",
       "      <th>98</th>\n",
       "      <td>5ef0f9e1f806feafcc979365</td>\n",
       "      <td>RT @ChampPR: JFC... This is on you, @dougducey...</td>\n",
       "      <td>en</td>\n",
       "      <td>RT : JFC... This is on you,  I currently have ...</td>\n",
       "      <td>{'tones': [{'score': 0.623921, 'tone_id': 'joy...</td>\n",
       "      <td>[{'sentence_id': 0, 'text': 'RT : JFC...', 'to...</td>\n",
       "    </tr>\n",
       "  </tbody>\n",
       "</table>\n",
       "<p>99 rows × 6 columns</p>\n",
       "</div>"
      ],
      "text/plain": [
       "                         _id  ...                                     sentences_tone\n",
       "0   5ef0f9e1f806feafcc979334  ...                                                NaN\n",
       "1   5ef0f9e1f806feafcc979255  ...                                                NaN\n",
       "2   5ef0f9e1f806feafcc979401  ...  [{'sentence_id': 0, 'text': \"RT : #Ohio's #COV...\n",
       "3   5ef0f9e1f806feafcc979338  ...  [{'sentence_id': 0, 'text': \"RT : A friend's f...\n",
       "4   5ef0f9e1f806feafcc9792c0  ...  [{'sentence_id': 0, 'text': 'RT : #Iran:\\xa0Sh...\n",
       "..                       ...  ...                                                ...\n",
       "94  5ef0f9e1f806feafcc979405  ...  [{'sentence_id': 0, 'text': 'A look at respira...\n",
       "95  5ef0f9e1f806feafcc979395  ...  [{'sentence_id': 0, 'text': 'RT : ‼️#Florida p...\n",
       "96  5ef0f9e1f806feafcc97930c  ...                                                NaN\n",
       "97  5ef0f9e1f806feafcc979284  ...  [{'sentence_id': 0, 'text': 'If that were true...\n",
       "98  5ef0f9e1f806feafcc979365  ...  [{'sentence_id': 0, 'text': 'RT : JFC...', 'to...\n",
       "\n",
       "[99 rows x 6 columns]"
      ]
     },
     "execution_count": 13,
     "metadata": {
      "tags": []
     },
     "output_type": "execute_result"
    }
   ],
   "source": []
  },
  {
   "cell_type": "code",
   "execution_count": null,
   "metadata": {
    "ExecuteTime": {
     "end_time": "2020-04-13T06:04:05.645685Z",
     "start_time": "2020-04-13T06:04:05.622749Z"
    },
    "colab": {
     "base_uri": "https://localhost:8080/",
     "height": 293
    },
    "colab_type": "code",
    "id": "V_nKlec8-aLa",
    "outputId": "5dfe6b6b-3de4-4b9c-f23c-e81fdcabc13f"
   },
   "outputs": [
    {
     "data": {
      "text/html": [
       "<div>\n",
       "<style scoped>\n",
       "    .dataframe tbody tr th:only-of-type {\n",
       "        vertical-align: middle;\n",
       "    }\n",
       "\n",
       "    .dataframe tbody tr th {\n",
       "        vertical-align: top;\n",
       "    }\n",
       "\n",
       "    .dataframe thead th {\n",
       "        text-align: right;\n",
       "    }\n",
       "</style>\n",
       "<table border=\"1\" class=\"dataframe\">\n",
       "  <thead>\n",
       "    <tr style=\"text-align: right;\">\n",
       "      <th></th>\n",
       "      <th>_id</th>\n",
       "      <th>full_text</th>\n",
       "      <th>lang</th>\n",
       "      <th>clean_text</th>\n",
       "      <th>document_tone</th>\n",
       "      <th>sentences_tone</th>\n",
       "    </tr>\n",
       "  </thead>\n",
       "  <tbody>\n",
       "    <tr>\n",
       "      <th>0</th>\n",
       "      <td>5ef0f9e1f806feafcc979334</td>\n",
       "      <td>RT @openletterbot: 📬 I delivered this ✉️ from ...</td>\n",
       "      <td>en</td>\n",
       "      <td>RT : 📬 I delivered this ✉️ from Sandra, a 🗳 ve...</td>\n",
       "      <td>{'tones': [{'score': 0.512875, 'tone_id': 'sad...</td>\n",
       "      <td>NaN</td>\n",
       "    </tr>\n",
       "    <tr>\n",
       "      <th>1</th>\n",
       "      <td>5ef0f9e1f806feafcc979255</td>\n",
       "      <td>RT @ohyesitseve: 500 Delta employees test posi...</td>\n",
       "      <td>en</td>\n",
       "      <td>RT : 500 Delta employees test positive for cov...</td>\n",
       "      <td>{'tones': [{'score': 0.783622, 'tone_id': 'joy...</td>\n",
       "      <td>NaN</td>\n",
       "    </tr>\n",
       "    <tr>\n",
       "      <th>2</th>\n",
       "      <td>5ef0f9e1f806feafcc979401</td>\n",
       "      <td>RT @GovMikeDeWine: #Ohio's #COVID19 data for J...</td>\n",
       "      <td>en</td>\n",
       "      <td>RT : #Ohio's #COVID19 data for June 22, 2020.\\...</td>\n",
       "      <td>{'tones': []}</td>\n",
       "      <td>[{'sentence_id': 0, 'text': \"RT : #Ohio's #COV...</td>\n",
       "    </tr>\n",
       "    <tr>\n",
       "      <th>3</th>\n",
       "      <td>5ef0f9e1f806feafcc979338</td>\n",
       "      <td>RT @KushaKapila: A friend's father is Covid po...</td>\n",
       "      <td>en</td>\n",
       "      <td>RT : A friend's father is Covid positive and h...</td>\n",
       "      <td>{'tones': [{'score': 0.597764, 'tone_id': 'joy...</td>\n",
       "      <td>[{'sentence_id': 0, 'text': \"RT : A friend's f...</td>\n",
       "    </tr>\n",
       "    <tr>\n",
       "      <th>4</th>\n",
       "      <td>5ef0f9e1f806feafcc9792c0</td>\n",
       "      <td>RT @Taheri_Movement: #Iran: Shocking charges a...</td>\n",
       "      <td>en</td>\n",
       "      <td>RT : #Iran: Shocking charges against jailed wo...</td>\n",
       "      <td>{'tones': [{'score': 0.848841, 'tone_id': 'con...</td>\n",
       "      <td>[{'sentence_id': 0, 'text': 'RT : #Iran:\\xa0Sh...</td>\n",
       "    </tr>\n",
       "  </tbody>\n",
       "</table>\n",
       "</div>"
      ],
      "text/plain": [
       "                        _id  ...                                     sentences_tone\n",
       "0  5ef0f9e1f806feafcc979334  ...                                                NaN\n",
       "1  5ef0f9e1f806feafcc979255  ...                                                NaN\n",
       "2  5ef0f9e1f806feafcc979401  ...  [{'sentence_id': 0, 'text': \"RT : #Ohio's #COV...\n",
       "3  5ef0f9e1f806feafcc979338  ...  [{'sentence_id': 0, 'text': \"RT : A friend's f...\n",
       "4  5ef0f9e1f806feafcc9792c0  ...  [{'sentence_id': 0, 'text': 'RT : #Iran:\\xa0Sh...\n",
       "\n",
       "[5 rows x 6 columns]"
      ]
     },
     "execution_count": 14,
     "metadata": {
      "tags": []
     },
     "output_type": "execute_result"
    }
   ],
   "source": [
    "data.head()"
   ]
  },
  {
   "cell_type": "code",
   "execution_count": null,
   "metadata": {
    "ExecuteTime": {
     "end_time": "2020-04-13T05:00:25.635694Z",
     "start_time": "2020-04-13T05:00:25.628713Z"
    },
    "colab": {},
    "colab_type": "code",
    "id": "IWjWdRnP-aLf"
   },
   "outputs": [],
   "source": [
    "data = data.iloc[:,1:6]"
   ]
  },
  {
   "cell_type": "code",
   "execution_count": null,
   "metadata": {
    "ExecuteTime": {
     "end_time": "2020-04-13T06:04:17.104754Z",
     "start_time": "2020-04-13T06:04:17.044883Z"
    },
    "colab": {},
    "colab_type": "code",
    "id": "jVqtPkOh-aLh"
   },
   "outputs": [],
   "source": [
    "data['document_tones'] = data.document_tone.apply(lambda x: ast.literal_eval(x)['tones'])\n",
    "data.drop('document_tone',axis = 1,inplace = True)"
   ]
  },
  {
   "cell_type": "code",
   "execution_count": null,
   "metadata": {
    "ExecuteTime": {
     "end_time": "2020-04-13T06:04:20.035358Z",
     "start_time": "2020-04-13T06:04:19.219565Z"
    },
    "colab": {
     "base_uri": "https://localhost:8080/",
     "height": 522
    },
    "colab_type": "code",
    "id": "WmRbEPZD-aLm",
    "outputId": "f3b00450-adcd-4d0f-f743-c5ae39b540ca"
   },
   "outputs": [
    {
     "data": {
      "text/html": [
       "<div>\n",
       "<style scoped>\n",
       "    .dataframe tbody tr th:only-of-type {\n",
       "        vertical-align: middle;\n",
       "    }\n",
       "\n",
       "    .dataframe tbody tr th {\n",
       "        vertical-align: top;\n",
       "    }\n",
       "\n",
       "    .dataframe thead th {\n",
       "        text-align: right;\n",
       "    }\n",
       "</style>\n",
       "<table border=\"1\" class=\"dataframe\">\n",
       "  <thead>\n",
       "    <tr style=\"text-align: right;\">\n",
       "      <th></th>\n",
       "      <th>full_text</th>\n",
       "      <th>lang</th>\n",
       "      <th>clean_text</th>\n",
       "      <th>sentences_tone</th>\n",
       "      <th>document_tones</th>\n",
       "      <th>sadness</th>\n",
       "      <th>joy</th>\n",
       "      <th>confident</th>\n",
       "      <th>tentative</th>\n",
       "      <th>anger</th>\n",
       "      <th>analytical</th>\n",
       "      <th>fear</th>\n",
       "    </tr>\n",
       "  </thead>\n",
       "  <tbody>\n",
       "    <tr>\n",
       "      <th>0</th>\n",
       "      <td>RT @openletterbot: 📬 I delivered this ✉️ from ...</td>\n",
       "      <td>en</td>\n",
       "      <td>RT : 📬 I delivered this ✉️ from Sandra, a 🗳 ve...</td>\n",
       "      <td>NaN</td>\n",
       "      <td>[{'score': 0.512875, 'tone_id': 'sadness', 'to...</td>\n",
       "      <td>1.0</td>\n",
       "      <td>NaN</td>\n",
       "      <td>NaN</td>\n",
       "      <td>NaN</td>\n",
       "      <td>NaN</td>\n",
       "      <td>NaN</td>\n",
       "      <td>NaN</td>\n",
       "    </tr>\n",
       "    <tr>\n",
       "      <th>1</th>\n",
       "      <td>RT @ohyesitseve: 500 Delta employees test posi...</td>\n",
       "      <td>en</td>\n",
       "      <td>RT : 500 Delta employees test positive for cov...</td>\n",
       "      <td>NaN</td>\n",
       "      <td>[{'score': 0.783622, 'tone_id': 'joy', 'tone_n...</td>\n",
       "      <td>NaN</td>\n",
       "      <td>1.0</td>\n",
       "      <td>1.0</td>\n",
       "      <td>NaN</td>\n",
       "      <td>NaN</td>\n",
       "      <td>NaN</td>\n",
       "      <td>NaN</td>\n",
       "    </tr>\n",
       "    <tr>\n",
       "      <th>2</th>\n",
       "      <td>RT @GovMikeDeWine: #Ohio's #COVID19 data for J...</td>\n",
       "      <td>en</td>\n",
       "      <td>RT : #Ohio's #COVID19 data for June 22, 2020.\\...</td>\n",
       "      <td>[{'sentence_id': 0, 'text': \"RT : #Ohio's #COV...</td>\n",
       "      <td>[]</td>\n",
       "      <td>NaN</td>\n",
       "      <td>NaN</td>\n",
       "      <td>NaN</td>\n",
       "      <td>NaN</td>\n",
       "      <td>NaN</td>\n",
       "      <td>NaN</td>\n",
       "      <td>NaN</td>\n",
       "    </tr>\n",
       "    <tr>\n",
       "      <th>3</th>\n",
       "      <td>RT @KushaKapila: A friend's father is Covid po...</td>\n",
       "      <td>en</td>\n",
       "      <td>RT : A friend's father is Covid positive and h...</td>\n",
       "      <td>[{'sentence_id': 0, 'text': \"RT : A friend's f...</td>\n",
       "      <td>[{'score': 0.597764, 'tone_id': 'joy', 'tone_n...</td>\n",
       "      <td>NaN</td>\n",
       "      <td>1.0</td>\n",
       "      <td>1.0</td>\n",
       "      <td>NaN</td>\n",
       "      <td>NaN</td>\n",
       "      <td>NaN</td>\n",
       "      <td>NaN</td>\n",
       "    </tr>\n",
       "    <tr>\n",
       "      <th>4</th>\n",
       "      <td>RT @Taheri_Movement: #Iran: Shocking charges a...</td>\n",
       "      <td>en</td>\n",
       "      <td>RT : #Iran: Shocking charges against jailed wo...</td>\n",
       "      <td>[{'sentence_id': 0, 'text': 'RT : #Iran:\\xa0Sh...</td>\n",
       "      <td>[{'score': 0.848841, 'tone_id': 'confident', '...</td>\n",
       "      <td>NaN</td>\n",
       "      <td>NaN</td>\n",
       "      <td>1.0</td>\n",
       "      <td>NaN</td>\n",
       "      <td>NaN</td>\n",
       "      <td>NaN</td>\n",
       "      <td>NaN</td>\n",
       "    </tr>\n",
       "  </tbody>\n",
       "</table>\n",
       "</div>"
      ],
      "text/plain": [
       "                                           full_text lang  ... analytical fear\n",
       "0  RT @openletterbot: 📬 I delivered this ✉️ from ...   en  ...        NaN  NaN\n",
       "1  RT @ohyesitseve: 500 Delta employees test posi...   en  ...        NaN  NaN\n",
       "2  RT @GovMikeDeWine: #Ohio's #COVID19 data for J...   en  ...        NaN  NaN\n",
       "3  RT @KushaKapila: A friend's father is Covid po...   en  ...        NaN  NaN\n",
       "4  RT @Taheri_Movement: #Iran: Shocking charges a...   en  ...        NaN  NaN\n",
       "\n",
       "[5 rows x 12 columns]"
      ]
     },
     "execution_count": 17,
     "metadata": {
      "tags": []
     },
     "output_type": "execute_result"
    }
   ],
   "source": [
    "# split sentiments in corresponding columns\n",
    "for i in range(0, len(data)):\n",
    "    for j in range(0, len(data.loc[i, 'document_tones'])):\n",
    "        dic = data.loc[i, 'document_tones'][j]\n",
    "        source = dic['tone_id']\n",
    "        data.loc[i, source] = 1\n",
    "data.head()"
   ]
  },
  {
   "cell_type": "code",
   "execution_count": null,
   "metadata": {
    "colab": {
     "base_uri": "https://localhost:8080/",
     "height": 1000
    },
    "colab_type": "code",
    "id": "RDSqy83pncTx",
    "outputId": "96c97dc8-8d35-4574-c0b4-532675aa1882"
   },
   "outputs": [
    {
     "data": {
      "text/html": [
       "<div>\n",
       "<style scoped>\n",
       "    .dataframe tbody tr th:only-of-type {\n",
       "        vertical-align: middle;\n",
       "    }\n",
       "\n",
       "    .dataframe tbody tr th {\n",
       "        vertical-align: top;\n",
       "    }\n",
       "\n",
       "    .dataframe thead th {\n",
       "        text-align: right;\n",
       "    }\n",
       "</style>\n",
       "<table border=\"1\" class=\"dataframe\">\n",
       "  <thead>\n",
       "    <tr style=\"text-align: right;\">\n",
       "      <th></th>\n",
       "      <th>full_text</th>\n",
       "      <th>lang</th>\n",
       "      <th>clean_text</th>\n",
       "      <th>sentences_tone</th>\n",
       "      <th>document_tones</th>\n",
       "      <th>sadness</th>\n",
       "      <th>joy</th>\n",
       "      <th>confident</th>\n",
       "      <th>tentative</th>\n",
       "      <th>anger</th>\n",
       "      <th>analytical</th>\n",
       "      <th>fear</th>\n",
       "    </tr>\n",
       "  </thead>\n",
       "  <tbody>\n",
       "    <tr>\n",
       "      <th>0</th>\n",
       "      <td>RT @openletterbot: 📬 I delivered this ✉️ from ...</td>\n",
       "      <td>en</td>\n",
       "      <td>RT : 📬 I delivered this ✉️ from Sandra, a 🗳 ve...</td>\n",
       "      <td>NaN</td>\n",
       "      <td>[{'score': 0.512875, 'tone_id': 'sadness', 'to...</td>\n",
       "      <td>1.0</td>\n",
       "      <td>NaN</td>\n",
       "      <td>NaN</td>\n",
       "      <td>NaN</td>\n",
       "      <td>NaN</td>\n",
       "      <td>NaN</td>\n",
       "      <td>NaN</td>\n",
       "    </tr>\n",
       "    <tr>\n",
       "      <th>1</th>\n",
       "      <td>RT @ohyesitseve: 500 Delta employees test posi...</td>\n",
       "      <td>en</td>\n",
       "      <td>RT : 500 Delta employees test positive for cov...</td>\n",
       "      <td>NaN</td>\n",
       "      <td>[{'score': 0.783622, 'tone_id': 'joy', 'tone_n...</td>\n",
       "      <td>NaN</td>\n",
       "      <td>1.0</td>\n",
       "      <td>1.0</td>\n",
       "      <td>NaN</td>\n",
       "      <td>NaN</td>\n",
       "      <td>NaN</td>\n",
       "      <td>NaN</td>\n",
       "    </tr>\n",
       "    <tr>\n",
       "      <th>2</th>\n",
       "      <td>RT @GovMikeDeWine: #Ohio's #COVID19 data for J...</td>\n",
       "      <td>en</td>\n",
       "      <td>RT : #Ohio's #COVID19 data for June 22, 2020.\\...</td>\n",
       "      <td>[{'sentence_id': 0, 'text': \"RT : #Ohio's #COV...</td>\n",
       "      <td>[]</td>\n",
       "      <td>NaN</td>\n",
       "      <td>NaN</td>\n",
       "      <td>NaN</td>\n",
       "      <td>NaN</td>\n",
       "      <td>NaN</td>\n",
       "      <td>NaN</td>\n",
       "      <td>NaN</td>\n",
       "    </tr>\n",
       "    <tr>\n",
       "      <th>3</th>\n",
       "      <td>RT @KushaKapila: A friend's father is Covid po...</td>\n",
       "      <td>en</td>\n",
       "      <td>RT : A friend's father is Covid positive and h...</td>\n",
       "      <td>[{'sentence_id': 0, 'text': \"RT : A friend's f...</td>\n",
       "      <td>[{'score': 0.597764, 'tone_id': 'joy', 'tone_n...</td>\n",
       "      <td>NaN</td>\n",
       "      <td>1.0</td>\n",
       "      <td>1.0</td>\n",
       "      <td>NaN</td>\n",
       "      <td>NaN</td>\n",
       "      <td>NaN</td>\n",
       "      <td>NaN</td>\n",
       "    </tr>\n",
       "    <tr>\n",
       "      <th>4</th>\n",
       "      <td>RT @Taheri_Movement: #Iran: Shocking charges a...</td>\n",
       "      <td>en</td>\n",
       "      <td>RT : #Iran: Shocking charges against jailed wo...</td>\n",
       "      <td>[{'sentence_id': 0, 'text': 'RT : #Iran:\\xa0Sh...</td>\n",
       "      <td>[{'score': 0.848841, 'tone_id': 'confident', '...</td>\n",
       "      <td>NaN</td>\n",
       "      <td>NaN</td>\n",
       "      <td>1.0</td>\n",
       "      <td>NaN</td>\n",
       "      <td>NaN</td>\n",
       "      <td>NaN</td>\n",
       "      <td>NaN</td>\n",
       "    </tr>\n",
       "    <tr>\n",
       "      <th>...</th>\n",
       "      <td>...</td>\n",
       "      <td>...</td>\n",
       "      <td>...</td>\n",
       "      <td>...</td>\n",
       "      <td>...</td>\n",
       "      <td>...</td>\n",
       "      <td>...</td>\n",
       "      <td>...</td>\n",
       "      <td>...</td>\n",
       "      <td>...</td>\n",
       "      <td>...</td>\n",
       "      <td>...</td>\n",
       "    </tr>\n",
       "    <tr>\n",
       "      <th>94</th>\n",
       "      <td>A look at respiratory failure in young healthy...</td>\n",
       "      <td>en</td>\n",
       "      <td>A look at respiratory failure in young healthy...</td>\n",
       "      <td>[{'sentence_id': 0, 'text': 'A look at respira...</td>\n",
       "      <td>[{'score': 0.589469, 'tone_id': 'joy', 'tone_n...</td>\n",
       "      <td>NaN</td>\n",
       "      <td>1.0</td>\n",
       "      <td>NaN</td>\n",
       "      <td>1.0</td>\n",
       "      <td>NaN</td>\n",
       "      <td>1.0</td>\n",
       "      <td>NaN</td>\n",
       "    </tr>\n",
       "    <tr>\n",
       "      <th>95</th>\n",
       "      <td>RT @DrDenaGrayson: ‼️#Florida passes 100,000 #...</td>\n",
       "      <td>en</td>\n",
       "      <td>RT : ‼️#Florida passes 100,000 #coronavirus ca...</td>\n",
       "      <td>[{'sentence_id': 0, 'text': 'RT : ‼️#Florida p...</td>\n",
       "      <td>[]</td>\n",
       "      <td>NaN</td>\n",
       "      <td>NaN</td>\n",
       "      <td>NaN</td>\n",
       "      <td>NaN</td>\n",
       "      <td>NaN</td>\n",
       "      <td>NaN</td>\n",
       "      <td>NaN</td>\n",
       "    </tr>\n",
       "    <tr>\n",
       "      <th>96</th>\n",
       "      <td>RT @PakPMO: This year’s challenge is to make s...</td>\n",
       "      <td>en</td>\n",
       "      <td>RT : This year’s challenge is to make sure tha...</td>\n",
       "      <td>NaN</td>\n",
       "      <td>[{'score': 0.543112, 'tone_id': 'confident', '...</td>\n",
       "      <td>NaN</td>\n",
       "      <td>NaN</td>\n",
       "      <td>1.0</td>\n",
       "      <td>NaN</td>\n",
       "      <td>NaN</td>\n",
       "      <td>NaN</td>\n",
       "      <td>NaN</td>\n",
       "    </tr>\n",
       "    <tr>\n",
       "      <th>97</th>\n",
       "      <td>@KBeds If that were true, why did he make a tr...</td>\n",
       "      <td>en</td>\n",
       "      <td>If that were true, why did he make a trade de...</td>\n",
       "      <td>[{'sentence_id': 0, 'text': 'If that were true...</td>\n",
       "      <td>[{'score': 0.509573, 'tone_id': 'joy', 'tone_n...</td>\n",
       "      <td>NaN</td>\n",
       "      <td>1.0</td>\n",
       "      <td>NaN</td>\n",
       "      <td>1.0</td>\n",
       "      <td>NaN</td>\n",
       "      <td>NaN</td>\n",
       "      <td>NaN</td>\n",
       "    </tr>\n",
       "    <tr>\n",
       "      <th>98</th>\n",
       "      <td>RT @ChampPR: JFC... This is on you, @dougducey...</td>\n",
       "      <td>en</td>\n",
       "      <td>RT : JFC... This is on you,  I currently have ...</td>\n",
       "      <td>[{'sentence_id': 0, 'text': 'RT : JFC...', 'to...</td>\n",
       "      <td>[{'score': 0.623921, 'tone_id': 'joy', 'tone_n...</td>\n",
       "      <td>NaN</td>\n",
       "      <td>1.0</td>\n",
       "      <td>NaN</td>\n",
       "      <td>NaN</td>\n",
       "      <td>NaN</td>\n",
       "      <td>NaN</td>\n",
       "      <td>NaN</td>\n",
       "    </tr>\n",
       "  </tbody>\n",
       "</table>\n",
       "<p>99 rows × 12 columns</p>\n",
       "</div>"
      ],
      "text/plain": [
       "                                            full_text lang  ... analytical fear\n",
       "0   RT @openletterbot: 📬 I delivered this ✉️ from ...   en  ...        NaN  NaN\n",
       "1   RT @ohyesitseve: 500 Delta employees test posi...   en  ...        NaN  NaN\n",
       "2   RT @GovMikeDeWine: #Ohio's #COVID19 data for J...   en  ...        NaN  NaN\n",
       "3   RT @KushaKapila: A friend's father is Covid po...   en  ...        NaN  NaN\n",
       "4   RT @Taheri_Movement: #Iran: Shocking charges a...   en  ...        NaN  NaN\n",
       "..                                                ...  ...  ...        ...  ...\n",
       "94  A look at respiratory failure in young healthy...   en  ...        1.0  NaN\n",
       "95  RT @DrDenaGrayson: ‼️#Florida passes 100,000 #...   en  ...        NaN  NaN\n",
       "96  RT @PakPMO: This year’s challenge is to make s...   en  ...        NaN  NaN\n",
       "97  @KBeds If that were true, why did he make a tr...   en  ...        NaN  NaN\n",
       "98  RT @ChampPR: JFC... This is on you, @dougducey...   en  ...        NaN  NaN\n",
       "\n",
       "[99 rows x 12 columns]"
      ]
     },
     "execution_count": 19,
     "metadata": {
      "tags": []
     },
     "output_type": "execute_result"
    }
   ],
   "source": [
    "data\n"
   ]
  },
  {
   "cell_type": "code",
   "execution_count": null,
   "metadata": {
    "colab": {
     "base_uri": "https://localhost:8080/",
     "height": 752
    },
    "colab_type": "code",
    "id": "SHWDiebbngVj",
    "outputId": "7440af10-8147-485d-8cd4-88b2c033557e"
   },
   "outputs": [
    {
     "ename": "KeyError",
     "evalue": "ignored",
     "output_type": "error",
     "traceback": [
      "\u001b[0;31m---------------------------------------------------------------------------\u001b[0m",
      "\u001b[0;31mKeyError\u001b[0m                                  Traceback (most recent call last)",
      "\u001b[0;32m/usr/local/lib/python3.6/dist-packages/pandas/core/indexes/base.py\u001b[0m in \u001b[0;36mget_loc\u001b[0;34m(self, key, method, tolerance)\u001b[0m\n\u001b[1;32m   2645\u001b[0m             \u001b[0;32mtry\u001b[0m\u001b[0;34m:\u001b[0m\u001b[0;34m\u001b[0m\u001b[0;34m\u001b[0m\u001b[0m\n\u001b[0;32m-> 2646\u001b[0;31m                 \u001b[0;32mreturn\u001b[0m \u001b[0mself\u001b[0m\u001b[0;34m.\u001b[0m\u001b[0m_engine\u001b[0m\u001b[0;34m.\u001b[0m\u001b[0mget_loc\u001b[0m\u001b[0;34m(\u001b[0m\u001b[0mkey\u001b[0m\u001b[0;34m)\u001b[0m\u001b[0;34m\u001b[0m\u001b[0;34m\u001b[0m\u001b[0m\n\u001b[0m\u001b[1;32m   2647\u001b[0m             \u001b[0;32mexcept\u001b[0m \u001b[0mKeyError\u001b[0m\u001b[0;34m:\u001b[0m\u001b[0;34m\u001b[0m\u001b[0;34m\u001b[0m\u001b[0m\n",
      "\u001b[0;32mpandas/_libs/index.pyx\u001b[0m in \u001b[0;36mpandas._libs.index.IndexEngine.get_loc\u001b[0;34m()\u001b[0m\n",
      "\u001b[0;32mpandas/_libs/index.pyx\u001b[0m in \u001b[0;36mpandas._libs.index.IndexEngine.get_loc\u001b[0;34m()\u001b[0m\n",
      "\u001b[0;32mpandas/_libs/hashtable_class_helper.pxi\u001b[0m in \u001b[0;36mpandas._libs.hashtable.PyObjectHashTable.get_item\u001b[0;34m()\u001b[0m\n",
      "\u001b[0;32mpandas/_libs/hashtable_class_helper.pxi\u001b[0m in \u001b[0;36mpandas._libs.hashtable.PyObjectHashTable.get_item\u001b[0;34m()\u001b[0m\n",
      "\u001b[0;31mKeyError\u001b[0m: 1",
      "\nDuring handling of the above exception, another exception occurred:\n",
      "\u001b[0;31mKeyError\u001b[0m                                  Traceback (most recent call last)",
      "\u001b[0;32m<ipython-input-20-d2d2feb3c6f0>\u001b[0m in \u001b[0;36m<module>\u001b[0;34m()\u001b[0m\n\u001b[0;32m----> 1\u001b[0;31m \u001b[0mdata\u001b[0m\u001b[0;34m[\u001b[0m\u001b[0;36m1\u001b[0m\u001b[0;34m]\u001b[0m\u001b[0;34m.\u001b[0m\u001b[0mclean_text\u001b[0m\u001b[0;34m\u001b[0m\u001b[0;34m\u001b[0m\u001b[0m\n\u001b[0m",
      "\u001b[0;32m/usr/local/lib/python3.6/dist-packages/pandas/core/frame.py\u001b[0m in \u001b[0;36m__getitem__\u001b[0;34m(self, key)\u001b[0m\n\u001b[1;32m   2798\u001b[0m             \u001b[0;32mif\u001b[0m \u001b[0mself\u001b[0m\u001b[0;34m.\u001b[0m\u001b[0mcolumns\u001b[0m\u001b[0;34m.\u001b[0m\u001b[0mnlevels\u001b[0m \u001b[0;34m>\u001b[0m \u001b[0;36m1\u001b[0m\u001b[0;34m:\u001b[0m\u001b[0;34m\u001b[0m\u001b[0;34m\u001b[0m\u001b[0m\n\u001b[1;32m   2799\u001b[0m                 \u001b[0;32mreturn\u001b[0m \u001b[0mself\u001b[0m\u001b[0;34m.\u001b[0m\u001b[0m_getitem_multilevel\u001b[0m\u001b[0;34m(\u001b[0m\u001b[0mkey\u001b[0m\u001b[0;34m)\u001b[0m\u001b[0;34m\u001b[0m\u001b[0;34m\u001b[0m\u001b[0m\n\u001b[0;32m-> 2800\u001b[0;31m             \u001b[0mindexer\u001b[0m \u001b[0;34m=\u001b[0m \u001b[0mself\u001b[0m\u001b[0;34m.\u001b[0m\u001b[0mcolumns\u001b[0m\u001b[0;34m.\u001b[0m\u001b[0mget_loc\u001b[0m\u001b[0;34m(\u001b[0m\u001b[0mkey\u001b[0m\u001b[0;34m)\u001b[0m\u001b[0;34m\u001b[0m\u001b[0;34m\u001b[0m\u001b[0m\n\u001b[0m\u001b[1;32m   2801\u001b[0m             \u001b[0;32mif\u001b[0m \u001b[0mis_integer\u001b[0m\u001b[0;34m(\u001b[0m\u001b[0mindexer\u001b[0m\u001b[0;34m)\u001b[0m\u001b[0;34m:\u001b[0m\u001b[0;34m\u001b[0m\u001b[0;34m\u001b[0m\u001b[0m\n\u001b[1;32m   2802\u001b[0m                 \u001b[0mindexer\u001b[0m \u001b[0;34m=\u001b[0m \u001b[0;34m[\u001b[0m\u001b[0mindexer\u001b[0m\u001b[0;34m]\u001b[0m\u001b[0;34m\u001b[0m\u001b[0;34m\u001b[0m\u001b[0m\n",
      "\u001b[0;32m/usr/local/lib/python3.6/dist-packages/pandas/core/indexes/base.py\u001b[0m in \u001b[0;36mget_loc\u001b[0;34m(self, key, method, tolerance)\u001b[0m\n\u001b[1;32m   2646\u001b[0m                 \u001b[0;32mreturn\u001b[0m \u001b[0mself\u001b[0m\u001b[0;34m.\u001b[0m\u001b[0m_engine\u001b[0m\u001b[0;34m.\u001b[0m\u001b[0mget_loc\u001b[0m\u001b[0;34m(\u001b[0m\u001b[0mkey\u001b[0m\u001b[0;34m)\u001b[0m\u001b[0;34m\u001b[0m\u001b[0;34m\u001b[0m\u001b[0m\n\u001b[1;32m   2647\u001b[0m             \u001b[0;32mexcept\u001b[0m \u001b[0mKeyError\u001b[0m\u001b[0;34m:\u001b[0m\u001b[0;34m\u001b[0m\u001b[0;34m\u001b[0m\u001b[0m\n\u001b[0;32m-> 2648\u001b[0;31m                 \u001b[0;32mreturn\u001b[0m \u001b[0mself\u001b[0m\u001b[0;34m.\u001b[0m\u001b[0m_engine\u001b[0m\u001b[0;34m.\u001b[0m\u001b[0mget_loc\u001b[0m\u001b[0;34m(\u001b[0m\u001b[0mself\u001b[0m\u001b[0;34m.\u001b[0m\u001b[0m_maybe_cast_indexer\u001b[0m\u001b[0;34m(\u001b[0m\u001b[0mkey\u001b[0m\u001b[0;34m)\u001b[0m\u001b[0;34m)\u001b[0m\u001b[0;34m\u001b[0m\u001b[0;34m\u001b[0m\u001b[0m\n\u001b[0m\u001b[1;32m   2649\u001b[0m         \u001b[0mindexer\u001b[0m \u001b[0;34m=\u001b[0m \u001b[0mself\u001b[0m\u001b[0;34m.\u001b[0m\u001b[0mget_indexer\u001b[0m\u001b[0;34m(\u001b[0m\u001b[0;34m[\u001b[0m\u001b[0mkey\u001b[0m\u001b[0;34m]\u001b[0m\u001b[0;34m,\u001b[0m \u001b[0mmethod\u001b[0m\u001b[0;34m=\u001b[0m\u001b[0mmethod\u001b[0m\u001b[0;34m,\u001b[0m \u001b[0mtolerance\u001b[0m\u001b[0;34m=\u001b[0m\u001b[0mtolerance\u001b[0m\u001b[0;34m)\u001b[0m\u001b[0;34m\u001b[0m\u001b[0;34m\u001b[0m\u001b[0m\n\u001b[1;32m   2650\u001b[0m         \u001b[0;32mif\u001b[0m \u001b[0mindexer\u001b[0m\u001b[0;34m.\u001b[0m\u001b[0mndim\u001b[0m \u001b[0;34m>\u001b[0m \u001b[0;36m1\u001b[0m \u001b[0;32mor\u001b[0m \u001b[0mindexer\u001b[0m\u001b[0;34m.\u001b[0m\u001b[0msize\u001b[0m \u001b[0;34m>\u001b[0m \u001b[0;36m1\u001b[0m\u001b[0;34m:\u001b[0m\u001b[0;34m\u001b[0m\u001b[0;34m\u001b[0m\u001b[0m\n",
      "\u001b[0;32mpandas/_libs/index.pyx\u001b[0m in \u001b[0;36mpandas._libs.index.IndexEngine.get_loc\u001b[0;34m()\u001b[0m\n",
      "\u001b[0;32mpandas/_libs/index.pyx\u001b[0m in \u001b[0;36mpandas._libs.index.IndexEngine.get_loc\u001b[0;34m()\u001b[0m\n",
      "\u001b[0;32mpandas/_libs/hashtable_class_helper.pxi\u001b[0m in \u001b[0;36mpandas._libs.hashtable.PyObjectHashTable.get_item\u001b[0;34m()\u001b[0m\n",
      "\u001b[0;32mpandas/_libs/hashtable_class_helper.pxi\u001b[0m in \u001b[0;36mpandas._libs.hashtable.PyObjectHashTable.get_item\u001b[0;34m()\u001b[0m\n",
      "\u001b[0;31mKeyError\u001b[0m: 1"
     ]
    }
   ],
   "source": [
    "data[1].clean_text"
   ]
  },
  {
   "cell_type": "code",
   "execution_count": null,
   "metadata": {
    "ExecuteTime": {
     "end_time": "2020-04-13T06:04:27.423608Z",
     "start_time": "2020-04-13T06:04:27.293931Z"
    },
    "colab": {},
    "colab_type": "code",
    "id": "A-xdZ488-aLp"
   },
   "outputs": [],
   "source": [
    "data.to_csv('sentiment_12000.csv',index=False)"
   ]
  },
  {
   "cell_type": "code",
   "execution_count": null,
   "metadata": {
    "colab": {},
    "colab_type": "code",
    "id": "4C7KjveDvUcf"
   },
   "outputs": [],
   "source": []
  },
  {
   "attachments": {},
   "cell_type": "markdown",
   "metadata": {
    "colab_type": "text",
    "id": "O08C9-FT-aLz"
   },
   "source": [
    "# Combining all datasets with tones analyzed by IBM"
   ]
  },
  {
   "cell_type": "code",
   "execution_count": null,
   "metadata": {
    "ExecuteTime": {
     "end_time": "2020-04-13T06:06:37.548404Z",
     "start_time": "2020-04-13T06:06:37.542420Z"
    },
    "colab": {},
    "colab_type": "code",
    "id": "J30Y0zh1-aL1"
   },
   "outputs": [],
   "source": [
    "path = r'D:\\Winter 2020\\COVID2019\\tweet_sentiment\\\\'\n",
    "files = os.listdir(path)"
   ]
  },
  {
   "cell_type": "code",
   "execution_count": null,
   "metadata": {
    "ExecuteTime": {
     "end_time": "2020-04-13T06:10:35.134496Z",
     "start_time": "2020-04-13T06:10:35.126533Z"
    },
    "colab": {},
    "colab_type": "code",
    "id": "g8Qw38vX-aL3",
    "outputId": "a8a02b2a-b107-4b36-b846-d4842ab4fbeb"
   },
   "outputs": [
    {
     "data": {
      "text/plain": [
       "['sentiment_12000.csv',\n",
       " 'sentiment_2000.csv',\n",
       " 'sentiment_4500.csv',\n",
       " 'sentiment_7000.csv',\n",
       " 'sentiment_9500.csv']"
      ]
     },
     "execution_count": 169,
     "metadata": {
      "tags": []
     },
     "output_type": "execute_result"
    }
   ],
   "source": [
    "file"
   ]
  },
  {
   "cell_type": "code",
   "execution_count": null,
   "metadata": {
    "ExecuteTime": {
     "end_time": "2020-04-13T06:15:52.994759Z",
     "start_time": "2020-04-13T06:15:52.863110Z"
    },
    "colab": {},
    "colab_type": "code",
    "id": "Eeh1fTyC-aL7"
   },
   "outputs": [],
   "source": [
    "import pandas as pd\n",
    "data=pd.read_csv('sentiment_12000.csv')\n"
   ]
  },
  {
   "cell_type": "code",
   "execution_count": null,
   "metadata": {
    "ExecuteTime": {
     "end_time": "2020-04-13T06:17:08.900343Z",
     "start_time": "2020-04-13T06:17:08.507294Z"
    },
    "colab": {},
    "colab_type": "code",
    "id": "17lyXmz0-aL_"
   },
   "outputs": [],
   "source": [
    "covid_twitter_data = pd.DataFrame()\n",
    "# Concat the Twitters data into one-table\n",
    "for file in files:\n",
    "    try:\n",
    "        data = pd.read_csv(str(path) + file)\n",
    "    except:\n",
    "        data = pd.read_csv(str(path) + file,encoding='cp1252')\n",
    "    covid_twitter_data = covid_twitter_data.append(data, ignore_index=True)"
   ]
  },
  {
   "cell_type": "code",
   "execution_count": null,
   "metadata": {
    "ExecuteTime": {
     "end_time": "2020-04-13T06:22:20.631797Z",
     "start_time": "2020-04-13T06:22:20.622830Z"
    },
    "colab": {
     "base_uri": "https://localhost:8080/",
     "height": 35
    },
    "colab_type": "code",
    "id": "QlRLtrTw-aME",
    "outputId": "dddd8833-9ac0-4df8-8273-43f71169fb19"
   },
   "outputs": [
    {
     "data": {
      "text/plain": [
       "31.0"
      ]
     },
     "execution_count": 10,
     "metadata": {
      "tags": []
     },
     "output_type": "execute_result"
    }
   ],
   "source": [
    "data['joy'].sum()"
   ]
  },
  {
   "cell_type": "code",
   "execution_count": null,
   "metadata": {
    "ExecuteTime": {
     "end_time": "2020-04-13T06:17:57.180648Z",
     "start_time": "2020-04-13T06:17:56.533381Z"
    },
    "colab": {},
    "colab_type": "code",
    "id": "R74M_zkH-aMI"
   },
   "outputs": [],
   "source": [
    "# Save the dataset\n",
    "covid_twitter_data.to_csv('sentiment12000full.csv',index=False)"
   ]
  },
  {
   "cell_type": "code",
   "execution_count": null,
   "metadata": {
    "colab": {},
    "colab_type": "code",
    "id": "jJVTf75M-aML"
   },
   "outputs": [],
   "source": []
  }
 ],
 "metadata": {
  "colab": {
   "name": "IBM Tone Analyzer API.ipynb",
   "provenance": []
  },
  "kernelspec": {
   "display_name": "Python 3",
   "language": "python",
   "name": "python3"
  },
  "language_info": {
   "codemirror_mode": {
    "name": "ipython",
    "version": 3
   },
   "file_extension": ".py",
   "mimetype": "text/x-python",
   "name": "python",
   "nbconvert_exporter": "python",
   "pygments_lexer": "ipython3",
   "version": "3.8.3"
  },
  "toc": {
   "base_numbering": 1,
   "nav_menu": {},
   "number_sections": true,
   "sideBar": true,
   "skip_h1_title": false,
   "title_cell": "Table of Contents",
   "title_sidebar": "Contents",
   "toc_cell": false,
   "toc_position": {},
   "toc_section_display": true,
   "toc_window_display": false
  }
 },
 "nbformat": 4,
 "nbformat_minor": 4
}
